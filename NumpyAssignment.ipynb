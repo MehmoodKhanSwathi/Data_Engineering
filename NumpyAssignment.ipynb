{
  "cells": [
    {
      "cell_type": "markdown",
      "metadata": {
        "id": "UZXjlass3ARu"
      },
      "source": [
        "\n",
        "# **1. Basic Array Manipulation:**\n"
      ]
    },
    {
      "cell_type": "markdown",
      "metadata": {
        "id": "tDWPQRm23C7o"
      },
      "source": [
        "Create a 1D array with values ranging from 0 to 9.\n"
      ]
    },
    {
      "cell_type": "code",
      "execution_count": 1,
      "metadata": {
        "id": "OvGF66_02Q8H"
      },
      "outputs": [],
      "source": [
        "import numpy as np\n",
        "array = np.arange(10)"
      ]
    },
    {
      "cell_type": "code",
      "execution_count": 2,
      "metadata": {},
      "outputs": [
        {
          "data": {
            "text/plain": [
              "array([0, 1, 2, 3, 4, 5, 6, 7, 8, 9])"
            ]
          },
          "execution_count": 2,
          "metadata": {},
          "output_type": "execute_result"
        }
      ],
      "source": [
        "array"
      ]
    },
    {
      "cell_type": "markdown",
      "metadata": {
        "id": "UYzIzPyB3Ne3"
      },
      "source": [
        "Reshape the array into a 3x3 matrix.\n",
        "\n",
        "Explore Reshape Function"
      ]
    },
    {
      "cell_type": "code",
      "execution_count": 18,
      "metadata": {
        "id": "RLlzDCBc2Q_P"
      },
      "outputs": [
        {
          "data": {
            "text/plain": [
              "array([[1, 2, 3],\n",
              "       [4, 5, 6],\n",
              "       [7, 8, 9]])"
            ]
          },
          "execution_count": 18,
          "metadata": {},
          "output_type": "execute_result"
        }
      ],
      "source": [
        "num_1d = np.array([1,2,3,4,5,6,7,8,9])\n",
        "num_1d.reshape(3,3)"
      ]
    },
    {
      "cell_type": "markdown",
      "metadata": {
        "id": "KmhRK9Ti3Phn"
      },
      "source": [
        "Access the element at the second row, second column.\n"
      ]
    },
    {
      "cell_type": "code",
      "execution_count": 41,
      "metadata": {
        "id": "Dk_a1D3A3ijN"
      },
      "outputs": [
        {
          "data": {
            "text/plain": [
              "5"
            ]
          },
          "execution_count": 41,
          "metadata": {},
          "output_type": "execute_result"
        }
      ],
      "source": [
        "num_1d[4]"
      ]
    },
    {
      "cell_type": "markdown",
      "metadata": {
        "id": "NlH7N-fZ36wc"
      },
      "source": [
        "Perform element-wise addition, subtraction, multiplication, and division on two arrays [1, 2, 3] and [4, 5, 6].\n"
      ]
    },
    {
      "cell_type": "code",
      "execution_count": 19,
      "metadata": {
        "id": "PkgNSo1a37kP"
      },
      "outputs": [
        {
          "data": {
            "text/plain": [
              "array([0.25, 0.4 , 0.5 ])"
            ]
          },
          "execution_count": 19,
          "metadata": {},
          "output_type": "execute_result"
        }
      ],
      "source": [
        "array1=np.array([1,2,3])\n",
        "array2=np.array([4,5,6])\n",
        "\n",
        "array1+array2\n",
        "\n",
        "array1-array2\n",
        "\n",
        "array1*array2\n",
        "\n",
        "array1/array2"
      ]
    },
    {
      "cell_type": "markdown",
      "metadata": {
        "id": "JVt4zxkk8e0P"
      },
      "source": [
        "Find the sum, mean, and standard deviation of the array [1, 2, 3, 4, 5].\n"
      ]
    },
    {
      "cell_type": "code",
      "execution_count": 24,
      "metadata": {
        "id": "mQZxaZ0c8nhh"
      },
      "outputs": [
        {
          "name": "stdout",
          "output_type": "stream",
          "text": [
            "3.0\n",
            "1.4142135623730951\n",
            "15\n"
          ]
        }
      ],
      "source": [
        "array = np.array([1,2,3,4,5])\n",
        "print(array.mean())\n",
        "print(array.std())\n",
        "print(array.sum())\n",
        "\n"
      ]
    },
    {
      "cell_type": "markdown",
      "metadata": {
        "id": "ji2XvW0Z8nn5"
      },
      "source": [
        "Reshape the array [1, 2, 3, 4, 5, 6] into a 2x3 array.\n",
        "\n",
        "Explore Reshape"
      ]
    },
    {
      "cell_type": "code",
      "execution_count": 22,
      "metadata": {
        "id": "FNbYlzyI8rAx"
      },
      "outputs": [
        {
          "data": {
            "text/plain": [
              "array([[1, 2, 3],\n",
              "       [4, 5, 6]])"
            ]
          },
          "execution_count": 22,
          "metadata": {},
          "output_type": "execute_result"
        }
      ],
      "source": [
        "num_1d=np.array([1,2,3,4,5,6])\n",
        "num_1d.reshape(2,3)"
      ]
    },
    {
      "cell_type": "markdown",
      "metadata": {
        "id": "OE-5o0th3SU4"
      },
      "source": [
        "\n",
        "# **2. Indexing and Slicing:**\n"
      ]
    },
    {
      "cell_type": "markdown",
      "metadata": {
        "id": "yqNKWBOl3an3"
      },
      "source": [
        "Create a 5x5 array with random integers.\n"
      ]
    },
    {
      "cell_type": "code",
      "execution_count": 26,
      "metadata": {
        "id": "G-kX4nme2RBn"
      },
      "outputs": [
        {
          "name": "stdout",
          "output_type": "stream",
          "text": [
            "[[10 14 68 60  6]\n",
            " [66 28 22 73 15]\n",
            " [61  6 83  0 52]\n",
            " [66 46 76 31 66]\n",
            " [72 31 25  6 75]]\n"
          ]
        }
      ],
      "source": [
        "random_num = np.random.randint(0,100,size=(5,5))\n",
        "print(random_num)"
      ]
    },
    {
      "cell_type": "markdown",
      "metadata": {
        "id": "LlilKAMF3bMX"
      },
      "source": [
        "Replace all values in the sub-array with a specific value.\n"
      ]
    },
    {
      "cell_type": "code",
      "execution_count": 27,
      "metadata": {
        "id": "gShfqRGm2REI"
      },
      "outputs": [
        {
          "data": {
            "text/plain": [
              "array([[10, 10, 10, 10, 10],\n",
              "       [10, 10, 10, 10, 10],\n",
              "       [10, 10, 10, 10, 10],\n",
              "       [10, 10, 10, 10, 10],\n",
              "       [10, 10, 10, 10, 10]])"
            ]
          },
          "execution_count": 27,
          "metadata": {},
          "output_type": "execute_result"
        }
      ],
      "source": [
        "random_num[:,:]=10   \n",
        "random_num"
      ]
    },
    {
      "cell_type": "markdown",
      "metadata": {
        "id": "1kUY7u023gfF"
      },
      "source": [
        "Extract the subarray [[3, 4], [7, 8]] from the array [[1, 2], [3, 4], [5, 6], [7, 8]].\n"
      ]
    },
    {
      "cell_type": "code",
      "execution_count": 37,
      "metadata": {
        "id": "UmgqjBwC3_4V"
      },
      "outputs": [
        {
          "data": {
            "text/plain": [
              "array([[3, 4],\n",
              "       [7, 8]])"
            ]
          },
          "execution_count": 37,
          "metadata": {},
          "output_type": "execute_result"
        }
      ],
      "source": [
        "arr=np.array([[1,2] , [3,4] , [5,6] , [7,8]])\n",
        "arr\n",
        "arr[[1,3]]"
      ]
    },
    {
      "cell_type": "markdown",
      "metadata": {
        "id": "vPrCHS_O3jK9"
      },
      "source": [
        "# **3. Broadcasting:**"
      ]
    },
    {
      "cell_type": "markdown",
      "metadata": {
        "id": "W3WUM5Cc3phc"
      },
      "source": [
        "Create a 2D array of shape (3, 3) with values from 0 to 2.\n"
      ]
    },
    {
      "cell_type": "code",
      "execution_count": 49,
      "metadata": {
        "id": "PxJrAlFW2RGw"
      },
      "outputs": [
        {
          "data": {
            "text/plain": [
              "array([[0, 1, 2],\n",
              "       [0, 1, 2],\n",
              "       [0, 1, 2]])"
            ]
          },
          "execution_count": 49,
          "metadata": {},
          "output_type": "execute_result"
        }
      ],
      "source": [
        "array = np.array([0,1,2])\n",
        "array\n",
        "# title\n",
        "new_array=np.tile(array,(3,1))\n",
        "new_array"
      ]
    },
    {
      "cell_type": "markdown",
      "metadata": {
        "id": "J5XPwN3A3rXG"
      },
      "source": [
        "Add a 1D array of shape (3,) to each row of the 2D array using broadcasting.\n"
      ]
    },
    {
      "cell_type": "code",
      "execution_count": null,
      "metadata": {
        "id": "k4FM2g_c2RJv"
      },
      "outputs": [],
      "source": [
        "import numpy as np\n",
        "array_2d=np.random.randiant(0,100,size(3,3))\n",
        "array_1d=np.random.randiant(0,100,size(3,1))\n",
        "print(\"2d Array:\")\n",
        "print(array_2d)\n",
        "print(\"\\n1d array:\")\n",
        "print(array_1d)\n",
        "result=array_2d+array1d\n"
      ]
    },
    {
      "cell_type": "markdown",
      "metadata": {
        "id": "9CbtQS3w4PA3"
      },
      "source": [
        "# **4. Concatenation and Splitting**"
      ]
    },
    {
      "cell_type": "markdown",
      "metadata": {
        "id": "yMg_umVy4ILG"
      },
      "source": [
        "\n",
        "1.   Create two 2D arrays of shape (3, 3) with random integers.\n",
        "2.   Concatenate them horizontally and vertically.\n",
        "3.   Split the concatenated arrays back into the original arrays.\n"
      ]
    },
    {
      "cell_type": "code",
      "execution_count": 52,
      "metadata": {
        "id": "wXiCa2Sn8XHP"
      },
      "outputs": [
        {
          "data": {
            "text/plain": [
              "array([[55, 39, 25],\n",
              "       [20, 40, 65],\n",
              "       [57, 49, 94]])"
            ]
          },
          "execution_count": 52,
          "metadata": {},
          "output_type": "execute_result"
        }
      ],
      "source": [
        "random_array1=np.random.randint(1,100,size=(3,3))\n",
        "random_array1\n",
        "\n"
      ]
    },
    {
      "cell_type": "code",
      "execution_count": 53,
      "metadata": {},
      "outputs": [
        {
          "data": {
            "text/plain": [
              "array([[28, 77, 82],\n",
              "       [83, 49, 26],\n",
              "       [56, 11, 85]])"
            ]
          },
          "execution_count": 53,
          "metadata": {},
          "output_type": "execute_result"
        }
      ],
      "source": [
        "random_array2=np.random.randint(1,100,size=(3,3))\n",
        "random_array2"
      ]
    },
    {
      "cell_type": "code",
      "execution_count": 54,
      "metadata": {},
      "outputs": [
        {
          "data": {
            "text/plain": [
              "array([[55, 39, 25, 28, 77, 82],\n",
              "       [20, 40, 65, 83, 49, 26],\n",
              "       [57, 49, 94, 56, 11, 85]])"
            ]
          },
          "execution_count": 54,
          "metadata": {},
          "output_type": "execute_result"
        }
      ],
      "source": [
        "concatenated_horizontally=np.hstack((random_array1,random_array2))\n",
        "concatenated_horizontally"
      ]
    },
    {
      "cell_type": "code",
      "execution_count": 55,
      "metadata": {},
      "outputs": [
        {
          "data": {
            "text/plain": [
              "array([[55, 39, 25],\n",
              "       [20, 40, 65],\n",
              "       [57, 49, 94],\n",
              "       [28, 77, 82],\n",
              "       [83, 49, 26],\n",
              "       [56, 11, 85]])"
            ]
          },
          "execution_count": 55,
          "metadata": {},
          "output_type": "execute_result"
        }
      ],
      "source": [
        "concatenated_vertically=np.vstack((random_array1,random_array2))\n",
        "concatenated_vertically"
      ]
    },
    {
      "cell_type": "code",
      "execution_count": 58,
      "metadata": {},
      "outputs": [
        {
          "data": {
            "text/plain": [
              "array([[28, 77, 82],\n",
              "       [83, 49, 26],\n",
              "       [56, 11, 85]])"
            ]
          },
          "execution_count": 58,
          "metadata": {},
          "output_type": "execute_result"
        }
      ],
      "source": [
        "splitted_array =np.hsplit(concatenated_horizontally,2)\n",
        "splitted_array[1]"
      ]
    },
    {
      "cell_type": "code",
      "execution_count": 59,
      "metadata": {},
      "outputs": [
        {
          "data": {
            "text/plain": [
              "array([[28, 77, 82],\n",
              "       [83, 49, 26],\n",
              "       [56, 11, 85]])"
            ]
          },
          "execution_count": 59,
          "metadata": {},
          "output_type": "execute_result"
        }
      ],
      "source": [
        "splitted_array =np.hsplit(concatenated_vertically,2)\n",
        "splitted_array[1]"
      ]
    },
    {
      "cell_type": "markdown",
      "metadata": {
        "id": "2CliNLH8YG3j"
      },
      "source": [
        "# **Bonus Question**\n",
        "\n",
        "Find mode of this array  = [1,2,1,2,3,4,5,6,8,9,1,2,2,22,21,1,1,1,1,2,5]\n",
        "\n",
        "Hint: Use count and also loop"
      ]
    },
    {
      "cell_type": "code",
      "execution_count": 70,
      "metadata": {
        "id": "JGe2Qe3SYaHq"
      },
      "outputs": [
        {
          "data": {
            "text/plain": [
              "{1: 8, 2: 8, 3: 1, 4: 1, 5: 2, 6: 1, 8: 1, 9: 1}"
            ]
          },
          "execution_count": 70,
          "metadata": {},
          "output_type": "execute_result"
        }
      ],
      "source": [
        "import numpy as np\n",
        "array=[1,2,1,2,3,4,5,6,8,9,1,2,2,2,2,2,1,1,1,1,1,2,5]\n",
        "count_dict={}               \n",
        "for i  in array:\n",
        "    if i in count_dict:\n",
        "      count_dict[i]+=1\n",
        "    else: \n",
        "        count_dict[i]=1\n",
        "count_dict       "
      ]
    },
    {
      "cell_type": "code",
      "execution_count": 72,
      "metadata": {},
      "outputs": [
        {
          "ename": "SyntaxError",
          "evalue": "invalid syntax (3307981334.py, line 3)",
          "output_type": "error",
          "traceback": [
            "\u001b[1;36m  Cell \u001b[1;32mIn[72], line 3\u001b[1;36m\u001b[0m\n\u001b[1;33m    for key values in count_dict.items ():\u001b[0m\n\u001b[1;37m            ^\u001b[0m\n\u001b[1;31mSyntaxError\u001b[0m\u001b[1;31m:\u001b[0m invalid syntax\n"
          ]
        }
      ],
      "source": [
        "mode=none\n",
        "max_count=0\n",
        "for key values in count_dict.items ():\n",
        "    if va;ue > max_count:\n",
        "      mode=key\n",
        "print(mode,max_count)\n"
      ]
    },
    {
      "cell_type": "markdown",
      "metadata": {
        "id": "1t9n5GQdYbHN"
      },
      "source": [
        "# **Notes**\n",
        "\n",
        "\n",
        "1.   All the Questions carry Equal Points (2 points)\n",
        "\n",
        "2.   Bonus Question carry 5 points\n",
        "\n",
        "3.   Review lecture for any query\n",
        "\n",
        "Good Luck!\n",
        "\n"
      ]
    }
  ],
  "metadata": {
    "colab": {
      "provenance": []
    },
    "kernelspec": {
      "display_name": "Python 3",
      "name": "python3"
    },
    "language_info": {
      "codemirror_mode": {
        "name": "ipython",
        "version": 3
      },
      "file_extension": ".py",
      "mimetype": "text/x-python",
      "name": "python",
      "nbconvert_exporter": "python",
      "pygments_lexer": "ipython3",
      "version": "3.11.5"
    }
  },
  "nbformat": 4,
  "nbformat_minor": 0
}
